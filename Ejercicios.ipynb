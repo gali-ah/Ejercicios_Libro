{
 "cells": [
  {
   "cell_type": "markdown",
   "metadata": {},
   "source": [
    "## Ejercicios \n",
    "\n",
    "Integrantes\n",
    "- Isai Montaño Chavez\n",
    "- Galilea \n",
    "- Ricardo\n",
    "-\n",
    "- Rosario Reyes Martinez"
   ]
  },
  {
   "cell_type": "markdown",
   "metadata": {},
   "source": [
    "### Ejercicio 9:"
   ]
  },
  {
   "cell_type": "markdown",
   "metadata": {},
   "source": [
    "### Ejercicio 10:"
   ]
  },
  {
   "cell_type": "markdown",
   "metadata": {},
   "source": [
    "### Ejercicio 11:"
   ]
  },
  {
   "cell_type": "markdown",
   "metadata": {},
   "source": [
    "### Ejercicio 12: "
   ]
  },
  {
   "cell_type": "markdown",
   "metadata": {},
   "source": [
    "### Ejercicio 13: "
   ]
  },
  {
   "cell_type": "markdown",
   "metadata": {},
   "source": [
    "### Ejercicio 14: Finanzas\n",
    "Se va a formar un portafolio de inversión de cuatro instrumentos financieros a partir\n",
    "de cinco de renta fija y seis de renta variable. ¿De cuántas maneras podría formarse el portafolio si:\n",
    "\n",
    "a) No hay restricciones?\n",
    "\n",
    "b) Debe haber dos instrumentos de renta fija y dos de renta variable?\n",
    "\n",
    "c) No debe haber ningún instrumento de renta fija?\n",
    "\n",
    "d) Debe haber tres instrumentos de renta fija?\n"
   ]
  },
  {
   "cell_type": "code",
   "execution_count": 5,
   "metadata": {},
   "outputs": [
    {
     "name": "stdout",
     "output_type": "stream",
     "text": [
      "a) Total de portafolios posibles: 330\n",
      "   Probabilidad de formar el portafolio: 0.003030\n",
      "b) Total de portafolios posibles: 150\n",
      "   Probabilidad de formar el portafolio: 0.454545\n",
      "c) Total de portafolios posibles: 15\n",
      "   Probabilidad de formar el portafolio: 0.045455\n",
      "d) Total de portafolios posibles: 60\n",
      "   Probabilidad de formar el portafolio: 0.181818\n",
      "\n",
      "Probabilidades:\n",
      "a) 0.003030\n",
      "b) 0.454545\n",
      "c) 0.045455\n",
      "d) 0.181818\n"
     ]
    }
   ],
   "source": [
    "import math\n",
    "\n",
    "def comb(n, r):\n",
    "    return math.comb(n, r)\n",
    "\n",
    "fija = 5\n",
    "variable = 6\n",
    "\n",
    "# a) No hay restricciones\n",
    "total_a = comb(fija + variable, 4)\n",
    "prob_a = 1 / total_a\n",
    "\n",
    "print(f\"a) Total de portafolios posibles: {total_a}\")\n",
    "print(f\"   Probabilidad de formar el portafolio: {prob_a:.6f}\")\n",
    "\n",
    "# b) Debe haber dos instrumentos de renta fija y dos de renta variable\n",
    "b = comb(fija, 2) * comb(variable, 2)\n",
    "prob_b = b / total_a\n",
    "\n",
    "print(f\"b) Total de portafolios posibles: {b}\")\n",
    "print(f\"   Probabilidad de formar el portafolio: {prob_b:.6f}\")\n",
    "\n",
    "# c) No debe haber ningún instrumento de renta fija\n",
    "c = comb(variable, 4)\n",
    "prob_c = c / total_a\n",
    "\n",
    "print(f\"c) Total de portafolios posibles: {c}\")\n",
    "print(f\"   Probabilidad de formar el portafolio: {prob_c:.6f}\")\n",
    "\n",
    "# d) Debe haber tres instrumentos de renta fija\n",
    "d = comb(fija, 3) * comb(variable, 1)\n",
    "prob_d = d / total_a\n",
    "\n",
    "print(f\"d) Total de portafolios posibles: {d}\")\n",
    "print(f\"   Probabilidad de formar el portafolio: {prob_d:.6f}\")\n",
    "\n",
    "# e) Calculando probabilidades para todos los incisos\n",
    "probabilidades = {\n",
    "    'a': prob_a,\n",
    "    'b': prob_b,\n",
    "    'c': prob_c,\n",
    "    'd': prob_d\n",
    "}\n",
    "\n",
    "print(\"\\nProbabilidades:\")\n",
    "for letra, probabilidad in probabilidades.items():\n",
    "    print(f\"{letra}) {probabilidad:.6f}\")"
   ]
  },
  {
   "cell_type": "markdown",
   "metadata": {},
   "source": [
    "### Ejercicio 15: Futbol.\n",
    "Tres parejas (tres hombres y tres mujeres) compran boletos para ir a un partido de los\n",
    "Pumas. Cuando llegan al estadio de Ciudad Universitaria les surge la duda de cómo sentarse en\n",
    "la fila. ¿De cuántas maneras pueden hacerlo si:\n",
    "\n",
    "a) No hay restricciones?\n",
    "\n",
    "b) Los hombres deben sentarse juntos?\n",
    "\n",
    "c) Deben sentarse por parejas?\n",
    "\n",
    "d) ¿Cuál es la probabilidad de cada uno de los eventos descritos en los incisos anteriores?"
   ]
  },
  {
   "cell_type": "code",
   "execution_count": 6,
   "metadata": {},
   "outputs": [
    {
     "name": "stdout",
     "output_type": "stream",
     "text": [
      "a) Total de portafolios posibles: 330\n",
      "   Probabilidad de formar el portafolio: 0.003030\n",
      "b) Total de portafolios posibles: 150\n",
      "   Probabilidad de formar el portafolio: 0.454545\n",
      "c) Total de portafolios posibles: 15\n",
      "   Probabilidad de formar el portafolio: 0.045455\n",
      "d) Total de portafolios posibles: 60\n",
      "   Probabilidad de formar el portafolio: 0.181818\n",
      "\n",
      "Probabilidades:\n",
      "a) 0.003030\n",
      "b) 0.454545\n",
      "c) 0.045455\n",
      "d) 0.181818\n"
     ]
    }
   ],
   "source": [
    "import math\n",
    "\n",
    "def factorial(n):\n",
    "    return math.factorial(n)\n",
    "\n",
    "def combinations(n, r):\n",
    "    return math.comb(n, r)\n",
    "\n",
    "# Instrumentos disponibles\n",
    "fija = 5\n",
    "variable = 6\n",
    "\n",
    "# a) No hay restricciones\n",
    "total_a = combinations(fija + variable, 4)\n",
    "prob_a = 1 / total_a\n",
    "\n",
    "print(f\"a) Total de portafolios posibles: {total_a}\")\n",
    "print(f\"   Probabilidad de formar el portafolio: {prob_a:.6f}\")\n",
    "\n",
    "# b) Debe haber dos instrumentos de renta fija y dos de renta variable\n",
    "b = combinations(fija, 2) * combinations(variable, 2)\n",
    "prob_b = b / total_a\n",
    "\n",
    "print(f\"b) Total de portafolios posibles: {b}\")\n",
    "print(f\"   Probabilidad de formar el portafolio: {prob_b:.6f}\")\n",
    "\n",
    "# c) No debe haber ningún instrumento de renta fija\n",
    "c = combinations(variable, 4)\n",
    "prob_c = c / total_a\n",
    "\n",
    "print(f\"c) Total de portafolios posibles: {c}\")\n",
    "print(f\"   Probabilidad de formar el portafolio: {prob_c:.6f}\")\n",
    "\n",
    "# d) Debe haber tres instrumentos de renta fija\n",
    "d = combinations(fija, 3) * combinations(variable, 1)\n",
    "prob_d = d / total_a\n",
    "\n",
    "print(f\"d) Total de portafolios posibles: {d}\")\n",
    "print(f\"   Probabilidad de formar el portafolio: {prob_d:.6f}\")\n",
    "\n",
    "# e) Calculando probabilidades para todos los incisos\n",
    "probabilidades = {\n",
    "    'a': prob_a,\n",
    "    'b': prob_b,\n",
    "    'c': prob_c,\n",
    "    'd': prob_d\n",
    "}\n",
    "\n",
    "print(\"\\nProbabilidades:\")\n",
    "for letter, proba in probabilidades.items():\n",
    "    print(f\"{letter}) {proba:.6f}\")\n"
   ]
  },
  {
   "cell_type": "markdown",
   "metadata": {},
   "source": [
    "### Ejercicio 16: "
   ]
  },
  {
   "cell_type": "markdown",
   "metadata": {},
   "source": [
    "### Ejercicio 17:"
   ]
  },
  {
   "cell_type": "markdown",
   "metadata": {},
   "source": []
  }
 ],
 "metadata": {
  "kernelspec": {
   "display_name": "Python 3",
   "language": "python",
   "name": "python3"
  },
  "language_info": {
   "codemirror_mode": {
    "name": "ipython",
    "version": 3
   },
   "file_extension": ".py",
   "mimetype": "text/x-python",
   "name": "python",
   "nbconvert_exporter": "python",
   "pygments_lexer": "ipython3",
   "version": "3.11.4"
  }
 },
 "nbformat": 4,
 "nbformat_minor": 2
}
