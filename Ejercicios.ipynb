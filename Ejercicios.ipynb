{
 "cells": [
  {
   "cell_type": "markdown",
   "metadata": {},
   "source": [
    "## Ejercicios \n",
    "\n",
    "Integrantes\n",
    "- Isai Montaño Chavez\n",
    "- Galilea \n",
    "- Ricardo López Cruz\n",
    "-\n",
    "- Rosario Reyes Martinez"
   ]
  },
  {
   "cell_type": "markdown",
   "metadata": {},
   "source": [
    "### Ejercicio 9:"
   ]
  },
  {
   "cell_type": "markdown",
   "metadata": {},
   "source": [
    "### Ejercicio 10:"
   ]
  },
  {
   "cell_type": "markdown",
   "metadata": {},
   "source": [
    "### Ejercicio 11:"
   ]
  },
  {
   "cell_type": "markdown",
   "metadata": {},
   "source": [
    "### Ejercicio 12: Servicios restauranteros. \n",
    "Una cadena de hamburguesas anuncia que se ofrecen 512 maneras de pedir una hamburguesa. Un cliente puede elegir cualquiera de estos ingredientes: cátsup, mostaza, mayonesa, aderezo de la casa, cebolla, pepinillos, jitomate, tocino y lechuga.              \n",
    "¿Crees que lo que afirma la empresa sea cierto? Justifica tu respuesta."
   ]
  },
  {
   "cell_type": "markdown",
   "metadata": {},
   "source": [
    "Debemos contar el número de posibles combinaciones de ingredientes que un cliente puede elegir.\n",
    "Cada ingrediente puede ser seleccionado o no, siendo que cada ingrediente tiene 2 opciones, sí o no. Hay 9 ingredientes, podemos calcular el número de posibles combinaciones usando la formula de la potencia:\n",
    "\n",
    "2^9 = 512"
   ]
  },
  {
   "cell_type": "code",
   "execution_count": 21,
   "metadata": {},
   "outputs": [
    {
     "name": "stdout",
     "output_type": "stream",
     "text": [
      "Combinaciones: 512\n"
     ]
    }
   ],
   "source": [
    "import math\n",
    "\n",
    "nIngredientes = 9\n",
    "nCombinaciones = 2 ** nIngredientes\n",
    "print(\"Combinaciones:\", nCombinaciones)  "
   ]
  },
  {
   "cell_type": "markdown",
   "metadata": {},
   "source": [
    "La empresa tiene razón. Hay exactamente 512 maneras de pedir una hamburguesa con los 9 ingredientes ofrecidos."
   ]
  },
  {
   "cell_type": "markdown",
   "metadata": {},
   "source": [
    "### Ejercicio 13: Cultura.\n",
    "Una persona tiene un libro de cada uno de los autores siguientes: Mario Vargas Llosa, Alberto Ruy Sánchez   Gabriel García Márquez, Günther Grass, Patrick Süskind, Heinrich Böll, Arturo Pérez-Reverte y Camilo José Cela. Como aún no los ha leído, quiere ponerlos en una repisa cerca de su cama. De acuerdo con esto, determina:"
   ]
  },
  {
   "cell_type": "markdown",
   "metadata": {},
   "source": [
    "- a) ¿De cuántas formas puede acomodar los libros sobre la repisa?  \n",
    "            \n",
    "8 libros ah acomodar en cualquier posición en la repisa = número de permutaciones de 8 elementos:       \n",
    "8! = 8 × 7 × 6 × 5 × 4 × 3 × 2 × 1 = 40,320"
   ]
  },
  {
   "cell_type": "code",
   "execution_count": 22,
   "metadata": {},
   "outputs": [
    {
     "name": "stdout",
     "output_type": "stream",
     "text": [
      "40320\n"
     ]
    }
   ],
   "source": [
    "print(math.factorial(8))  "
   ]
  },
  {
   "cell_type": "markdown",
   "metadata": {},
   "source": [
    "- b) ¿De cuántas maneras puede ordenarlos si quiere que los libros de autores latinoamericanos\n",
    "estén juntos?       \n",
    "\n",
    "Latinos 4: Mario Vargas Llosa, Alberto Ruy Sánchez, Gabriel García Márquez y Camilo José Cela. Juntos los consideramos como un bloque de 4 elementos.       \n",
    "No latinos 4: Günther Grass, Patrick Süskind, Heinrich Böll y Arturo Pérez-Reverte. También forman un bloque de 4.     \n",
    "El número de formas de ordenar los 2 bloques es 2! = 2, ya que podemos intercambiarlos entre sí.        \n",
    "Dentro de cada bloque podemos ordenar los libros. Para el bloque latinos: 4! = 24. Para el bloque no latinos: 4! = 24.      \n",
    "2! × 4! × 4! = 2 × 24 × 24 = 1152"
   ]
  },
  {
   "cell_type": "code",
   "execution_count": 23,
   "metadata": {},
   "outputs": [
    {
     "name": "stdout",
     "output_type": "stream",
     "text": [
      "1152\n"
     ]
    }
   ],
   "source": [
    "print(2 * math.factorial(4) ** 2)"
   ]
  },
  {
   "cell_type": "markdown",
   "metadata": {},
   "source": [
    "- c) ¿De cuántas formas puede acomodarlos, si los autores latinoamericanos deben estar juntos,\n",
    "así como los autores alemanes y los españoles también?     \n",
    "\n",
    "3 bloques: autores latinos (4), alemanes (2) y españoles (2).       \n",
    "El número de formas de ordenar los 3 bloques es 3! = 6, podemos intercambiarlos entre sí.\n",
    "\n",
    "Dentro de cada bloque podemos ordenarlos de manera independiente.       \n",
    "Para el bloque de latinos: 4! = 24.         \n",
    "Para el bloque alemanes: 2! = 2.        \n",
    "Para el bloque españoles: 2! = 2.       \n",
    "Número de formas de ordenar los libros:      \n",
    "        \n",
    "3! × 4! × 2! × 2! = 6 × 24 × 2 × 2 = 576"
   ]
  },
  {
   "cell_type": "code",
   "execution_count": 24,
   "metadata": {},
   "outputs": [
    {
     "name": "stdout",
     "output_type": "stream",
     "text": [
      "576\n"
     ]
    }
   ],
   "source": [
    "print(6 * math.factorial(4) * math.factorial(2) ** 2)"
   ]
  },
  {
   "cell_type": "markdown",
   "metadata": {},
   "source": [
    "- d) Determina las probabilidades correspondientes a los incisos (b) y (c).     \n",
    "\n",
    "    Para calcular la probabilidad:  Numero de formas de ordenar los libros en cada caso / número total de formas de acomodarlos (40,320).       \n",
    "- Probabilidad de que los libros de autores latinoamericanos estén juntos:\n",
    "\n",
    "    P = 2304 / 40,320 ≈ 0.0572\n",
    "\n",
    "- Probabilidad de que los autores latinoamericanos, alemanes y españoles estén juntos:\n",
    "        \n",
    "    P = 576 / 40,320 ≈ 0.0143"
   ]
  },
  {
   "cell_type": "code",
   "execution_count": 25,
   "metadata": {},
   "outputs": [
    {
     "name": "stdout",
     "output_type": "stream",
     "text": [
      "0.05714285714285714\n",
      "0.014285714285714285\n"
     ]
    }
   ],
   "source": [
    "print(2304 / math.factorial(8))\n",
    "print(576 / math.factorial(8))  "
   ]
  },
  {
   "cell_type": "markdown",
   "metadata": {},
   "source": [
    "### Ejercicio 14:"
   ]
  },
  {
   "cell_type": "markdown",
   "metadata": {},
   "source": [
    "### Ejercicio 15: "
   ]
  },
  {
   "cell_type": "markdown",
   "metadata": {},
   "source": [
    "### Ejercicio 16: "
   ]
  },
  {
   "cell_type": "markdown",
   "metadata": {},
   "source": [
    "### Ejercicio 17:"
   ]
  },
  {
   "cell_type": "markdown",
   "metadata": {},
   "source": []
  }
 ],
 "metadata": {
  "kernelspec": {
   "display_name": "Python 3",
   "language": "python",
   "name": "python3"
  },
  "language_info": {
   "codemirror_mode": {
    "name": "ipython",
    "version": 3
   },
   "file_extension": ".py",
   "mimetype": "text/x-python",
   "name": "python",
   "nbconvert_exporter": "python",
   "pygments_lexer": "ipython3",
   "version": "3.12.4"
  }
 },
 "nbformat": 4,
 "nbformat_minor": 2
}
