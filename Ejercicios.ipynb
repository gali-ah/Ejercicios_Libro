{
 "cells": [
  {
   "cell_type": "markdown",
   "metadata": {},
   "source": [
    "## Ejercicios \n",
    "\n",
    "Integrantes\n",
    "- Isai Montaño Chavez\n",
    "- Galilea Alonso Hernandez \n",
    "- Ricardo López Cruz\n",
    "- Eduardo Gómez Mejía\n",
    "- Rosario Reyes Martinez"
   ]
  },
  {
   "cell_type": "markdown",
   "metadata": {},
   "source": [
    "### Ejercicio 9:\n",
    "Sólo para practicar. Los números telefónicos en la ciudad de Cuernavaca, Morelos, constan de siete dígitos.\n",
    "\n",
    "a) ¿Cuántas líneas telefónicas pueden crearse en esa ciudad? Recuerda que no pueden comenzar con cero."
   ]
  },
  {
   "cell_type": "code",
   "execution_count": 51,
   "metadata": {},
   "outputs": [
    {
     "name": "stdout",
     "output_type": "stream",
     "text": [
      "9000000\n"
     ]
    }
   ],
   "source": [
    "Opcion_inicial = 9\n",
    "\n",
    "Digitos_opciones = 10\n",
    "\n",
    "TotalLineasTel = Opcion_inicial * (Digitos_opciones ** 6)\n",
    "\n",
    "print(TotalLineasTel)"
   ]
  },
  {
   "cell_type": "markdown",
   "metadata": {},
   "source": [
    "b) Si los tres primeros dígitos representan una zona de Cuernavaca, ¿cuántas líneas telefónicas pertenecen a la zona 326?"
   ]
  },
  {
   "cell_type": "code",
   "execution_count": 52,
   "metadata": {},
   "outputs": [
    {
     "name": "stdout",
     "output_type": "stream",
     "text": [
      "10000\n"
     ]
    }
   ],
   "source": [
    "Ultimos_cuatro_digitos = 10 ** 4\n",
    "\n",
    "liZona_326 = Ultimos_cuatro_digitos\n",
    "\n",
    "print(liZona_326)"
   ]
  },
  {
   "cell_type": "markdown",
   "metadata": {},
   "source": [
    "### Ejercicio 10: Sólo para practicar. \n",
    "Se tiene la palabra MURCIÉLAGO. Si no se permiten repeticiones al usar las letras que la forman, determina:"
   ]
  },
  {
   "cell_type": "code",
   "execution_count": 53,
   "metadata": {},
   "outputs": [
    {
     "name": "stdout",
     "output_type": "stream",
     "text": [
      "Total de palabras: 3628800\n"
     ]
    }
   ],
   "source": [
    "# a) El número de palabras que puedes crear.\n",
    "import math\n",
    "print('Total de palabras:', math.factorial(10)) "
   ]
  },
  {
   "cell_type": "code",
   "execution_count": 54,
   "metadata": {},
   "outputs": [
    {
     "name": "stdout",
     "output_type": "stream",
     "text": [
      "Total de plabrascon:  30240\n"
     ]
    }
   ],
   "source": [
    "# b) El número de palabras con cinco letras.\n",
    "from math import factorial\n",
    "\n",
    "def nPr(n, r):\n",
    "    return factorial(n) // factorial(n-r)\n",
    "\n",
    "def nCr(n, r):\n",
    "    return factorial(n) // (factorial(r) * factorial(n-r))\n",
    "\n",
    "print('Total de plabrascon: ', nPr(10, 5))"
   ]
  },
  {
   "cell_type": "code",
   "execution_count": 55,
   "metadata": {},
   "outputs": [
    {
     "name": "stdout",
     "output_type": "stream",
     "text": [
      "15120\n",
      "Probabilidas:  0.004166666666666667 %\n"
     ]
    }
   ],
   "source": [
    "# c) La probabilidad de que una palabra de cinco letras termine en vocal.\n",
    "P = 9 * 8 * 7 * 6 * 5\n",
    "T = 3628800\n",
    "Probabilidad = P / T\n",
    "print(P)\n",
    "print('Probabilidas: ', Probabilidad, '%')"
   ]
  },
  {
   "cell_type": "markdown",
   "metadata": {},
   "source": [
    "### Ejercicio 11: \n",
    "La Ciudad de México tiene placas de automóviles con tres números seguidos por tres letras, es decir, son placas del tipo 999-AAA. Sin embargo, no pueden empezar con 0 (cero) ni se utilizan las letras I, O, Q y Ñ\n",
    "\n",
    "a) ¿Cuántas placas diferentes son posibles?\n",
    "\n",
    "N = 9 * 10 * 10 P = 23 * 23 * 23 print('Total de placas:', N * P)"
   ]
  },
  {
   "cell_type": "code",
   "execution_count": 56,
   "metadata": {},
   "outputs": [
    {
     "name": "stdout",
     "output_type": "stream",
     "text": [
      "TOtal de placas: 2380500\n"
     ]
    }
   ],
   "source": [
    "# b) ¿Cuántas placas diferentes terminan en vocal?\n",
    "n = 9 * 10 * 10\n",
    "p = 23 * 23 * 5\n",
    "print('TOtal de placas:', n * p)"
   ]
  },
  {
   "cell_type": "code",
   "execution_count": 57,
   "metadata": {},
   "outputs": [
    {
     "name": "stdout",
     "output_type": "stream",
     "text": [
      "Probabilidad: 0.5 %\n"
     ]
    }
   ],
   "source": [
    "# c) ¿Cuál es la probabilidad de que una placa, elegida al azar, sea impar?\n",
    "n = 9 * 10 * 5\n",
    "p = 23 * 23 * 23\n",
    "Probabilidad = (n * p) / 10950300  \n",
    "print('Probabilidad:', Probabilidad, '%')"
   ]
  },
  {
   "cell_type": "markdown",
   "metadata": {},
   "source": [
    "### Ejercicio 12: Servicios restauranteros. \n",
    "Una cadena de hamburguesas anuncia que se ofrecen 512 maneras de pedir una hamburguesa. Un cliente puede elegir cualquiera de estos ingredientes: cátsup, mostaza, mayonesa, aderezo de la casa, cebolla, pepinillos, jitomate, tocino y lechuga.              \n",
    "¿Crees que lo que afirma la empresa sea cierto? Justifica tu respuesta."
   ]
  },
  {
   "cell_type": "markdown",
   "metadata": {},
   "source": [
    "Debemos contar el número de posibles combinaciones de ingredientes que un cliente puede elegir.\n",
    "Cada ingrediente puede ser seleccionado o no, siendo que cada ingrediente tiene 2 opciones, sí o no. Hay 9 ingredientes, podemos calcular el número de posibles combinaciones usando la formula de la potencia:\n",
    "\n",
    "2^9 = 512"
   ]
  },
  {
   "cell_type": "code",
   "execution_count": 58,
   "metadata": {},
   "outputs": [
    {
     "name": "stdout",
     "output_type": "stream",
     "text": [
      "Combinaciones: 512\n"
     ]
    }
   ],
   "source": [
    "import math\n",
    "\n",
    "nIngredientes = 9\n",
    "nCombinaciones = 2 ** nIngredientes\n",
    "print(\"Combinaciones:\", nCombinaciones)  "
   ]
  },
  {
   "cell_type": "markdown",
   "metadata": {},
   "source": [
    "La empresa tiene razón. Hay exactamente 512 maneras de pedir una hamburguesa con los 9 ingredientes ofrecidos."
   ]
  },
  {
   "cell_type": "markdown",
   "metadata": {},
   "source": [
    "### Ejercicio 13: Cultura.\n",
    "Una persona tiene un libro de cada uno de los autores siguientes: Mario Vargas Llosa, Alberto Ruy Sánchez   Gabriel García Márquez, Günther Grass, Patrick Süskind, Heinrich Böll, Arturo Pérez-Reverte y Camilo José Cela. Como aún no los ha leído, quiere ponerlos en una repisa cerca de su cama. De acuerdo con esto, determina:\n",
    "\n",
    "a) ¿De cuántas formas puede acomodar los libros sobre la repisa?\n",
    "b) ¿De cuántas maneras puede ordenarlos si quiere que los libros de autores latinoamericanos\n",
    "estén juntos?\n",
    "c) ¿De cuántas formas puede acomodarlos, si los autores latinoamericanos deben estar juntos,\n",
    "así como los autores alemanes y los españoles también?\n",
    "d) Determina las probabilidades correspondientes a los incisos (b) y (c)."
   ]
  },
  {
   "cell_type": "code",
   "execution_count": 72,
   "metadata": {},
   "outputs": [
    {
     "name": "stdout",
     "output_type": "stream",
     "text": [
      "a) 40320\n",
      "b) 4320\n",
      "c) 432\n",
      "d) La Probabilidad de b es: 0.10714285714285714\n",
      "d) La Probabilidad de c es: 0.010714285714285714\n",
      "\n"
     ]
    }
   ],
   "source": [
    "import math as m\n",
    "\n",
    "def calcular_cultura():\n",
    "    # Calculando los valores directamente\n",
    "    total_libros = 8\n",
    "    formas_total = m.factorial(total_libros)\n",
    "    formas_b = m.factorial(6) * m.factorial(3)\n",
    "    formas_c = m.factorial(3) * (m.factorial(2) * m.factorial(3) * m.factorial(3))\n",
    "\n",
    "    # Calculando las probabilidades\n",
    "    probabilidad_b = formas_b / formas_total\n",
    "    probabilidad_c = formas_c / formas_total\n",
    "\n",
    "    # Devolviendo los resultados como una cadena formateada\n",
    "    resultados = f\"a) {formas_total}\\n\" \\\n",
    "                 f\"b) {formas_b}\\n\" \\\n",
    "                 f\"c) {formas_c}\\n\" \\\n",
    "                 f\"d) La Probabilidad de b es: {probabilidad_b}\\n\" \\\n",
    "                 f\"d) La Probabilidad de c es: {probabilidad_c}\\n\"\n",
    "    \n",
    "    return resultados\n",
    "\n",
    "# Llamamos a la función y mostramos los resultados\n",
    "resultados = calcular_cultura()\n",
    "print(resultados)\n",
    "\n"
   ]
  },
  {
   "cell_type": "markdown",
   "metadata": {},
   "source": [
    "### Ejercicio 14: Finanzas\n",
    "Se va a formar un portafolio de inversión de cuatro instrumentos financieros a partir\n",
    "de cinco de renta fija y seis de renta variable. ¿De cuántas maneras podría formarse el portafolio si:\n",
    "\n",
    "a) No hay restricciones?\n",
    "\n",
    "b) Debe haber dos instrumentos de renta fija y dos de renta variable?\n",
    "\n",
    "c) No debe haber ningún instrumento de renta fija?\n",
    "\n",
    "d) Debe haber tres instrumentos de renta fija?"
   ]
  },
  {
   "cell_type": "code",
   "execution_count": 63,
   "metadata": {},
   "outputs": [
    {
     "name": "stdout",
     "output_type": "stream",
     "text": [
      "a) Total de formas posibles: 330\n",
      "La Probabilidad es: 1.000000\n",
      "b) Total de formas posibles: 150\n",
      "La Probabilidad es: 0.454545\n",
      "c) Total de formas posibles: 15\n",
      "   La Probabilidad es: 0.045455\n",
      "d) Total de formas posibles: 60\n",
      "La Probabilidad es: 0.181818\n",
      "\n",
      "Probabilidades:\n",
      "a) 100.00%\n",
      "b) 45.45%\n",
      "c) 4.55%\n",
      "d) 18.18%\n"
     ]
    }
   ],
   "source": [
    "import math\n",
    "\n",
    "def comb(n, r):\n",
    "    return math.comb(n, r)\n",
    "\n",
    "fija = 5\n",
    "variable = 6\n",
    "total_combinaciones = comb(fija + variable, 4)\n",
    "\n",
    "# a) No hay restricciones\n",
    "total_a = total_combinaciones\n",
    "prob_a = total_a / total_combinaciones\n",
    "\n",
    "print(f\"a) Total de formas posibles: {total_a}\")\n",
    "print(f\"La Probabilidad es: {prob_a:.6f}\")\n",
    "\n",
    "# b) Debe haber dos instrumentos de renta fija y dos de renta variable\n",
    "b = comb(fija, 2) * comb(variable, 2)\n",
    "prob_b = b / total_combinaciones\n",
    "\n",
    "print(f\"b) Total de formas posibles: {b}\")\n",
    "print(f\"La Probabilidad es: {prob_b:.6f}\")\n",
    "\n",
    "# c) No debe haber ningún instrumento de renta fija\n",
    "c = comb(variable, 4)\n",
    "prob_c = c / total_combinaciones\n",
    "\n",
    "print(f\"c) Total de formas posibles: {c}\")\n",
    "print(f\"   La Probabilidad es: {prob_c:.6f}\")\n",
    "\n",
    "# d) Debe haber tres instrumentos de renta fija\n",
    "d = comb(fija, 3) * comb(variable, 1)\n",
    "prob_d = d / total_combinaciones\n",
    "\n",
    "print(f\"d) Total de formas posibles: {d}\")\n",
    "print(f\"La Probabilidad es: {prob_d:.6f}\")\n",
    "\n",
    "# e) Calculando probabilidades para todos los incisos\n",
    "probabilidades = {\n",
    "    'a': prob_a,\n",
    "    'b': prob_b,\n",
    "    'c': prob_c,\n",
    "    'd': prob_d\n",
    "}\n",
    "\n",
    "print(\"\\nProbabilidades:\")\n",
    "for letra, probabilidad in probabilidades.items():\n",
    "    probabilidad_porcentaje = probabilidad * 100\n",
    "    print(f\"{letra}) {probabilidad_porcentaje:.2f}%\")\n"
   ]
  },
  {
   "cell_type": "markdown",
   "metadata": {},
   "source": [
    "### Ejercicio 15: Futbol.\n",
    "Tres parejas (tres hombres y tres mujeres) compran boletos para ir a un partido de los\n",
    "Pumas. Cuando llegan al estadio de Ciudad Universitaria les surge la duda de cómo sentarse en\n",
    "la fila. ¿De cuántas maneras pueden hacerlo si:\n",
    "\n",
    "a) No hay restricciones?\n",
    "\n",
    "b) Los hombres deben sentarse juntos?\n",
    "\n",
    "c) Deben sentarse por parejas?\n",
    "\n",
    "d) ¿Cuál es la probabilidad de cada uno de los eventos descritos en los incisos anteriores?"
   ]
  },
  {
   "cell_type": "code",
   "execution_count": 64,
   "metadata": {},
   "outputs": [
    {
     "name": "stdout",
     "output_type": "stream",
     "text": [
      "a) Total de arreglos posibles: 720\n",
      "   Probabilidad de ordenar así: 0.001389\n",
      "b) Total de arreglos posibles: 144\n",
      "   Probabilidad de ordenar así: 0.200000\n",
      "c) Total de arreglos posibles: 48\n",
      "   Probabilidad de ordenar así: 0.066667\n",
      "\n",
      " D) Probabilidades:\n",
      "a) 0.14%\n",
      "b) 20.00%\n",
      "c) 6.67%\n"
     ]
    }
   ],
   "source": [
    "import math\n",
    "\n",
    "def factorial(n):\n",
    "    return math.factorial(n)\n",
    "\n",
    "# Total de personas (3 hombres y 3 mujeres)\n",
    "total_personas = 6\n",
    "\n",
    "# a) No hay restricciones\n",
    "total_permu_a = factorial(total_personas)\n",
    "proba_a = 1 / total_permu_a\n",
    "\n",
    "print(f\"a) Total de arreglos posibles: {total_permu_a}\")\n",
    "print(f\"   Probabilidad de ordenar así: {proba_a:.6f}\")\n",
    "\n",
    "# b) Los hombres deben sentarse juntos\n",
    "# Consideramos a los 3 hombres como un bloque, lo que deja 4 \"personas\" (3 mujeres + 1 bloque de hombres).\n",
    "# Luego, los hombres dentro del bloque pueden ordenarse de 3! maneras.\n",
    "total_permu_b = factorial(4) * factorial(3)\n",
    "proba_b = total_permu_b / total_permu_a\n",
    "\n",
    "print(f\"b) Total de arreglos posibles: {total_permu_b}\")\n",
    "print(f\"   Probabilidad de ordenar así: {proba_b:.6f}\")\n",
    "\n",
    "# c) Deben sentarse por parejas\n",
    "# Consideramos cada pareja como un bloque, lo que deja 3 bloques.\n",
    "# Cada bloque puede tener 2! (hombre, mujer) formas de ordenarse.\n",
    "total_permu_c = factorial(3) * 2**3\n",
    "proba_c = total_permu_c / total_permu_a\n",
    "\n",
    "print(f\"c) Total de arreglos posibles: {total_permu_c}\")\n",
    "print(f\"   Probabilidad de ordenar así: {proba_c:.6f}\")\n",
    "\n",
    "# d) Probabilidades de cada evento\n",
    "probabilities = {\n",
    "    'a': proba_a,\n",
    "    'b': proba_b,\n",
    "    'c': proba_c\n",
    "}\n",
    "\n",
    "print(\"\\n D) Probabilidades:\")\n",
    "for letter, proba in probabilities.items():\n",
    "    proba_porcentaje = proba * 100\n",
    "    print(f\"{letter}) {proba_porcentaje:.2f}%\")\n"
   ]
  },
  {
   "cell_type": "markdown",
   "metadata": {},
   "source": [
    "### Ejercicio 16: \n",
    "\n",
    "En un grupo de 25 alumnos hay 13 chicas y 12 chicos. Se desean formar equipos de trabajo para realizar una investigación:\n",
    "\n",
    "* ¿Cuántos equipos de cinco personas pueden formarse?\n",
    "* ¿Cuántos equipos pueden formarse si debe haber una chica?\n",
    "* ¿Cuántos equipos pueden formarse si debe haber dos chicas?"
   ]
  },
  {
   "cell_type": "code",
   "execution_count": 65,
   "metadata": {},
   "outputs": [
    {
     "name": "stdout",
     "output_type": "stream",
     "text": [
      "Numero de equipos de 5 personas:  53130\n",
      "Probabilidad:  0.04705439488048184\n",
      "Numero de equipos con 1 chica:  6435\n",
      "Probabilidad:  0.3885003885003885\n",
      "Numero de equipos con 2 chicas:  17160\n",
      "Probabilidad:  0.1456876456876457\n"
     ]
    }
   ],
   "source": [
    "from math import factorial\n",
    "\n",
    "n = 25\n",
    "m = 13\n",
    "h = 12\n",
    "\n",
    "# a) Cuántos equipos de cinco personas pueden formarse\n",
    "a = factorial(n) // (factorial(5) * factorial(n - 5))\n",
    "print(\"Numero de equipos de 5 personas: \",a)\n",
    "Pa = (n / a)*100\n",
    "print(\"Probabilidad: \",Pa)\n",
    "\n",
    "# b) Cuántos equipos pueden formarse si debe haber una chica\n",
    "b = (factorial(m) // (factorial(1) * factorial(m - 1))) * (factorial(h) // (factorial(5 - 1) * factorial(h - (5 - 1))))\n",
    "print(\"Numero de equipos con 1 chica: \", b)\n",
    "Pb = (n / b)*100\n",
    "print(\"Probabilidad: \",Pb)\n",
    "\n",
    "# c) Cuántos equipos pueden formarse si debe haber dos chicas\n",
    "c = (factorial(m) // (factorial(2) * factorial(m - 2))) * (factorial(h) // (factorial(5 - 2) * factorial(h - (5 - 2))))\n",
    "print(\"Numero de equipos con 2 chicas: \", c)\n",
    "Pc = (n / c)*100\n",
    "print(\"Probabilidad: \",Pc)"
   ]
  },
  {
   "cell_type": "markdown",
   "metadata": {},
   "source": [
    "### Ejercicio 17:\n",
    "\n",
    "Se tiene una caja con 24 latas y se sabe que dos están contaminadas. Se van a seleccionar tres latas al azar para someterlas a una prueba de control de calidad, es decir, para medir los estándares de calidad de la empresa."
   ]
  },
  {
   "cell_type": "code",
   "execution_count": 67,
   "metadata": {},
   "outputs": [
    {
     "name": "stdout",
     "output_type": "stream",
     "text": [
      "Número de combinaciones de 3 latas: 2024\n",
      "Probabilidad de seleccionar una lata contaminada: 0.228\n",
      "Probabilidad de seleccionar al menos una lata contaminada: 0.239\n",
      "Probabilidad de no seleccionar latas contaminadas: 0.761\n"
     ]
    }
   ],
   "source": [
    "from math import factorial\n",
    "\n",
    "# Definición de la función combinaciones\n",
    "def combinaciones(n, r):\n",
    "    return factorial(n) // (factorial(r) * factorial(n - r))\n",
    "\n",
    "n = 24  # Número total de latas\n",
    "k = 2   # Número de latas contaminadas\n",
    "m = 3   # Número de latas seleccionadas\n",
    "\n",
    "# a) Número de combinaciones de 3 latas\n",
    "combinaciones_3_latas = combinaciones(n, m)\n",
    "print(f\"Número de combinaciones de {m} latas: {combinaciones_3_latas}\")\n",
    "\n",
    "# b) Probabilidad de seleccionar una lata contaminada para la prueba\n",
    "probabilidad_contaminada = combinaciones(k, 1) * combinaciones(n-k, m-1) / combinaciones(n, m)\n",
    "print(f\"Probabilidad de seleccionar una lata contaminada: {probabilidad_contaminada:.3f}\")\n",
    "\n",
    "# c) Probabilidad de seleccionar al menos una lata contaminada\n",
    "probabilidad_al_menos_una_contaminada = 1 - combinaciones(n-k, m) / combinaciones(n, m)\n",
    "print(f\"Probabilidad de seleccionar al menos una lata contaminada: {probabilidad_al_menos_una_contaminada:.3f}\")\n",
    "\n",
    "# d) Probabilidad de no seleccionar latas contaminadas\n",
    "probabilidad_no_contaminada = combinaciones(k, 0) * combinaciones(n-k, m) / combinaciones(n, m)\n",
    "print(f\"Probabilidad de no seleccionar latas contaminadas: {probabilidad_no_contaminada:.3f}\")\n"
   ]
  }
 ],
 "metadata": {
  "kernelspec": {
   "display_name": "Python 3",
   "language": "python",
   "name": "python3"
  },
  "language_info": {
   "codemirror_mode": {
    "name": "ipython",
    "version": 3
   },
   "file_extension": ".py",
   "mimetype": "text/x-python",
   "name": "python",
   "nbconvert_exporter": "python",
   "pygments_lexer": "ipython3",
   "version": "3.12.4"
  }
 },
 "nbformat": 4,
 "nbformat_minor": 2
}
